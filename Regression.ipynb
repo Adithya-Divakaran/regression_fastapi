{
 "cells": [
  {
   "cell_type": "code",
   "execution_count": 1,
   "id": "e152f53e-fae1-4231-a00f-c69621c845dc",
   "metadata": {},
   "outputs": [],
   "source": [
    "import pandas as pd\n",
    "import numpy as np \n",
    "import matplotlib.pyplot as plt\n",
    "import seaborn as sns\n",
    "from sklearn.preprocessing import StandardScaler"
   ]
  },
  {
   "cell_type": "code",
   "execution_count": 2,
   "id": "03d4f933-353b-47f0-bc12-07d9d7fc1f67",
   "metadata": {},
   "outputs": [],
   "source": [
    "df1=pd.read_csv(r\"C:\\Users\\Adithya D\\Downloads\\order_line\\order_line.csv\")\n",
    "df2=pd.read_csv(r\"C:\\Users\\Adithya D\\Downloads\\order_line\\order_info.csv\")\n",
    "\n",
    "df=pd.merge(df1,df2,on='Order ID',how='inner')"
   ]
  },
  {
   "cell_type": "code",
   "execution_count": 3,
   "id": "26d8ae69-d496-448e-b31f-508f25fdfac9",
   "metadata": {},
   "outputs": [
    {
     "data": {
      "text/html": [
       "<div>\n",
       "<style scoped>\n",
       "    .dataframe tbody tr th:only-of-type {\n",
       "        vertical-align: middle;\n",
       "    }\n",
       "\n",
       "    .dataframe tbody tr th {\n",
       "        vertical-align: top;\n",
       "    }\n",
       "\n",
       "    .dataframe thead th {\n",
       "        text-align: right;\n",
       "    }\n",
       "</style>\n",
       "<table border=\"1\" class=\"dataframe\">\n",
       "  <thead>\n",
       "    <tr style=\"text-align: right;\">\n",
       "      <th></th>\n",
       "      <th>Order ID</th>\n",
       "      <th>Product ID</th>\n",
       "      <th>SKU ID</th>\n",
       "      <th>Category</th>\n",
       "      <th>Quantity</th>\n",
       "      <th>Price per Unit</th>\n",
       "      <th>Customer ID</th>\n",
       "      <th>Warehouse ID</th>\n",
       "      <th>Customer Age</th>\n",
       "      <th>Customer Gender</th>\n",
       "      <th>Date</th>\n",
       "    </tr>\n",
       "  </thead>\n",
       "  <tbody>\n",
       "    <tr>\n",
       "      <th>0</th>\n",
       "      <td>2664</td>\n",
       "      <td>Product_099</td>\n",
       "      <td>SKU_053</td>\n",
       "      <td>Beauty &amp; Personal Care</td>\n",
       "      <td>2</td>\n",
       "      <td>75.67</td>\n",
       "      <td>CUST094</td>\n",
       "      <td>WH005</td>\n",
       "      <td>56</td>\n",
       "      <td>Female</td>\n",
       "      <td>2023-02-05</td>\n",
       "    </tr>\n",
       "    <tr>\n",
       "      <th>1</th>\n",
       "      <td>2664</td>\n",
       "      <td>Product_138</td>\n",
       "      <td>SKU_087</td>\n",
       "      <td>Toys &amp; Games</td>\n",
       "      <td>4</td>\n",
       "      <td>636.36</td>\n",
       "      <td>CUST094</td>\n",
       "      <td>WH005</td>\n",
       "      <td>56</td>\n",
       "      <td>Female</td>\n",
       "      <td>2023-02-05</td>\n",
       "    </tr>\n",
       "    <tr>\n",
       "      <th>2</th>\n",
       "      <td>2664</td>\n",
       "      <td>Product_190</td>\n",
       "      <td>SKU_831</td>\n",
       "      <td>Groceries &amp; Gourmet Food</td>\n",
       "      <td>4</td>\n",
       "      <td>82.44</td>\n",
       "      <td>CUST094</td>\n",
       "      <td>WH005</td>\n",
       "      <td>56</td>\n",
       "      <td>Female</td>\n",
       "      <td>2023-02-05</td>\n",
       "    </tr>\n",
       "    <tr>\n",
       "      <th>3</th>\n",
       "      <td>5028</td>\n",
       "      <td>Product_156</td>\n",
       "      <td>SKU_524</td>\n",
       "      <td>Beauty &amp; Personal Care</td>\n",
       "      <td>3</td>\n",
       "      <td>57.16</td>\n",
       "      <td>CUST345</td>\n",
       "      <td>WH001</td>\n",
       "      <td>52</td>\n",
       "      <td>Female</td>\n",
       "      <td>2023-04-11</td>\n",
       "    </tr>\n",
       "    <tr>\n",
       "      <th>4</th>\n",
       "      <td>9143</td>\n",
       "      <td>Product_126</td>\n",
       "      <td>SKU_651</td>\n",
       "      <td>Beauty &amp; Personal Care</td>\n",
       "      <td>2</td>\n",
       "      <td>35.05</td>\n",
       "      <td>CUST585</td>\n",
       "      <td>WH004</td>\n",
       "      <td>52</td>\n",
       "      <td>Male</td>\n",
       "      <td>2023-04-12</td>\n",
       "    </tr>\n",
       "  </tbody>\n",
       "</table>\n",
       "</div>"
      ],
      "text/plain": [
       "   Order ID   Product ID   SKU ID                  Category  Quantity  \\\n",
       "0      2664  Product_099  SKU_053    Beauty & Personal Care         2   \n",
       "1      2664  Product_138  SKU_087              Toys & Games         4   \n",
       "2      2664  Product_190  SKU_831  Groceries & Gourmet Food         4   \n",
       "3      5028  Product_156  SKU_524    Beauty & Personal Care         3   \n",
       "4      9143  Product_126  SKU_651    Beauty & Personal Care         2   \n",
       "\n",
       "   Price per Unit Customer ID Warehouse ID  Customer Age Customer Gender  \\\n",
       "0           75.67     CUST094        WH005            56          Female   \n",
       "1          636.36     CUST094        WH005            56          Female   \n",
       "2           82.44     CUST094        WH005            56          Female   \n",
       "3           57.16     CUST345        WH001            52          Female   \n",
       "4           35.05     CUST585        WH004            52            Male   \n",
       "\n",
       "         Date  \n",
       "0  2023-02-05  \n",
       "1  2023-02-05  \n",
       "2  2023-02-05  \n",
       "3  2023-04-11  \n",
       "4  2023-04-12  "
      ]
     },
     "execution_count": 3,
     "metadata": {},
     "output_type": "execute_result"
    }
   ],
   "source": [
    "df.head()"
   ]
  },
  {
   "cell_type": "code",
   "execution_count": 4,
   "id": "05d81cec-a345-481d-bb43-f5d02c36ce6e",
   "metadata": {},
   "outputs": [
    {
     "name": "stdout",
     "output_type": "stream",
     "text": [
      "<class 'pandas.core.frame.DataFrame'>\n",
      "RangeIndex: 24885 entries, 0 to 24884\n",
      "Data columns (total 11 columns):\n",
      " #   Column           Non-Null Count  Dtype  \n",
      "---  ------           --------------  -----  \n",
      " 0   Order ID         24885 non-null  int64  \n",
      " 1   Product ID       24885 non-null  object \n",
      " 2   SKU ID           24885 non-null  object \n",
      " 3   Category         24885 non-null  object \n",
      " 4   Quantity         24885 non-null  int64  \n",
      " 5   Price per Unit   24885 non-null  float64\n",
      " 6   Customer ID      24885 non-null  object \n",
      " 7   Warehouse ID     24885 non-null  object \n",
      " 8   Customer Age     24885 non-null  int64  \n",
      " 9   Customer Gender  24885 non-null  object \n",
      " 10  Date             24885 non-null  object \n",
      "dtypes: float64(1), int64(3), object(7)\n",
      "memory usage: 2.1+ MB\n"
     ]
    }
   ],
   "source": [
    "df.info()"
   ]
  },
  {
   "cell_type": "code",
   "execution_count": 5,
   "id": "adab6992-aeaa-4bb1-a5b6-f9f87e637d15",
   "metadata": {},
   "outputs": [
    {
     "name": "stdout",
     "output_type": "stream",
     "text": [
      "1000\n"
     ]
    }
   ],
   "source": [
    "unique_ids=df['Customer ID'].nunique()\n",
    "print(unique_ids)"
   ]
  },
  {
   "cell_type": "code",
   "execution_count": 6,
   "id": "fc753d2c-d271-4b8e-95b0-233d2f2b269c",
   "metadata": {},
   "outputs": [],
   "source": [
    "orders_per_customer=df.groupby('Customer ID')['Order ID'].nunique()"
   ]
  },
  {
   "cell_type": "code",
   "execution_count": 7,
   "id": "17a47f9a-a05f-4fb4-a263-21a41323416b",
   "metadata": {},
   "outputs": [
    {
     "name": "stdout",
     "output_type": "stream",
     "text": [
      "Customer ID\n",
      "CUST001     8\n",
      "CUST002    10\n",
      "CUST003     8\n",
      "CUST004     3\n",
      "CUST005     5\n",
      "           ..\n",
      "CUST995     4\n",
      "CUST996     2\n",
      "CUST997     9\n",
      "CUST998     7\n",
      "CUST999     9\n",
      "Name: Order ID, Length: 1000, dtype: int64\n"
     ]
    }
   ],
   "source": [
    "print(orders_per_customer)"
   ]
  },
  {
   "cell_type": "code",
   "execution_count": 8,
   "id": "b2c032f8-e3e9-42d0-a405-dfc336d9f9e0",
   "metadata": {},
   "outputs": [],
   "source": [
    "Data=df.copy()"
   ]
  },
  {
   "cell_type": "code",
   "execution_count": 9,
   "id": "ded8196f-43a2-4b65-9a30-2f172fbd458d",
   "metadata": {},
   "outputs": [
    {
     "name": "stdout",
     "output_type": "stream",
     "text": [
      "<class 'pandas.core.frame.DataFrame'>\n",
      "RangeIndex: 24885 entries, 0 to 24884\n",
      "Data columns (total 11 columns):\n",
      " #   Column           Non-Null Count  Dtype  \n",
      "---  ------           --------------  -----  \n",
      " 0   Order ID         24885 non-null  int64  \n",
      " 1   Product ID       24885 non-null  object \n",
      " 2   SKU ID           24885 non-null  object \n",
      " 3   Category         24885 non-null  object \n",
      " 4   Quantity         24885 non-null  int64  \n",
      " 5   Price per Unit   24885 non-null  float64\n",
      " 6   Customer ID      24885 non-null  object \n",
      " 7   Warehouse ID     24885 non-null  object \n",
      " 8   Customer Age     24885 non-null  int64  \n",
      " 9   Customer Gender  24885 non-null  object \n",
      " 10  Date             24885 non-null  object \n",
      "dtypes: float64(1), int64(3), object(7)\n",
      "memory usage: 2.1+ MB\n"
     ]
    }
   ],
   "source": [
    "Data.info()"
   ]
  },
  {
   "cell_type": "code",
   "execution_count": 10,
   "id": "81f19ced-ebaf-4382-a9aa-ca6a66c3f8c1",
   "metadata": {},
   "outputs": [],
   "source": [
    "Data['order_value']=Data['Price per Unit']*Data['Quantity']"
   ]
  },
  {
   "cell_type": "code",
   "execution_count": 11,
   "id": "0f11e09a-a96d-46d6-92e6-70816eb4e114",
   "metadata": {},
   "outputs": [
    {
     "data": {
      "text/html": [
       "<div>\n",
       "<style scoped>\n",
       "    .dataframe tbody tr th:only-of-type {\n",
       "        vertical-align: middle;\n",
       "    }\n",
       "\n",
       "    .dataframe tbody tr th {\n",
       "        vertical-align: top;\n",
       "    }\n",
       "\n",
       "    .dataframe thead th {\n",
       "        text-align: right;\n",
       "    }\n",
       "</style>\n",
       "<table border=\"1\" class=\"dataframe\">\n",
       "  <thead>\n",
       "    <tr style=\"text-align: right;\">\n",
       "      <th></th>\n",
       "      <th>Order ID</th>\n",
       "      <th>Quantity</th>\n",
       "      <th>Price per Unit</th>\n",
       "      <th>Customer Age</th>\n",
       "      <th>order_value</th>\n",
       "    </tr>\n",
       "  </thead>\n",
       "  <tbody>\n",
       "    <tr>\n",
       "      <th>count</th>\n",
       "      <td>24885.000000</td>\n",
       "      <td>24885.000000</td>\n",
       "      <td>24885.000000</td>\n",
       "      <td>24885.000000</td>\n",
       "      <td>24885.000000</td>\n",
       "    </tr>\n",
       "    <tr>\n",
       "      <th>mean</th>\n",
       "      <td>4983.313683</td>\n",
       "      <td>3.008037</td>\n",
       "      <td>470.179418</td>\n",
       "      <td>41.965521</td>\n",
       "      <td>1411.986825</td>\n",
       "    </tr>\n",
       "    <tr>\n",
       "      <th>std</th>\n",
       "      <td>2882.528726</td>\n",
       "      <td>1.411261</td>\n",
       "      <td>298.329986</td>\n",
       "      <td>13.598892</td>\n",
       "      <td>1188.548432</td>\n",
       "    </tr>\n",
       "    <tr>\n",
       "      <th>min</th>\n",
       "      <td>1.000000</td>\n",
       "      <td>1.000000</td>\n",
       "      <td>20.000000</td>\n",
       "      <td>18.000000</td>\n",
       "      <td>20.070000</td>\n",
       "    </tr>\n",
       "    <tr>\n",
       "      <th>25%</th>\n",
       "      <td>2478.000000</td>\n",
       "      <td>2.000000</td>\n",
       "      <td>191.050000</td>\n",
       "      <td>30.000000</td>\n",
       "      <td>430.550000</td>\n",
       "    </tr>\n",
       "    <tr>\n",
       "      <th>50%</th>\n",
       "      <td>4987.000000</td>\n",
       "      <td>3.000000</td>\n",
       "      <td>460.130000</td>\n",
       "      <td>42.000000</td>\n",
       "      <td>1024.920000</td>\n",
       "    </tr>\n",
       "    <tr>\n",
       "      <th>75%</th>\n",
       "      <td>7457.000000</td>\n",
       "      <td>4.000000</td>\n",
       "      <td>731.990000</td>\n",
       "      <td>53.000000</td>\n",
       "      <td>2121.090000</td>\n",
       "    </tr>\n",
       "    <tr>\n",
       "      <th>max</th>\n",
       "      <td>10000.000000</td>\n",
       "      <td>5.000000</td>\n",
       "      <td>999.960000</td>\n",
       "      <td>65.000000</td>\n",
       "      <td>4999.300000</td>\n",
       "    </tr>\n",
       "  </tbody>\n",
       "</table>\n",
       "</div>"
      ],
      "text/plain": [
       "           Order ID      Quantity  Price per Unit  Customer Age   order_value\n",
       "count  24885.000000  24885.000000    24885.000000  24885.000000  24885.000000\n",
       "mean    4983.313683      3.008037      470.179418     41.965521   1411.986825\n",
       "std     2882.528726      1.411261      298.329986     13.598892   1188.548432\n",
       "min        1.000000      1.000000       20.000000     18.000000     20.070000\n",
       "25%     2478.000000      2.000000      191.050000     30.000000    430.550000\n",
       "50%     4987.000000      3.000000      460.130000     42.000000   1024.920000\n",
       "75%     7457.000000      4.000000      731.990000     53.000000   2121.090000\n",
       "max    10000.000000      5.000000      999.960000     65.000000   4999.300000"
      ]
     },
     "execution_count": 11,
     "metadata": {},
     "output_type": "execute_result"
    }
   ],
   "source": [
    "Data.describe()"
   ]
  },
  {
   "cell_type": "code",
   "execution_count": 12,
   "id": "cb5da557-25da-4489-bc8d-ef6643d0e0c3",
   "metadata": {},
   "outputs": [
    {
     "data": {
      "text/html": [
       "<div>\n",
       "<style scoped>\n",
       "    .dataframe tbody tr th:only-of-type {\n",
       "        vertical-align: middle;\n",
       "    }\n",
       "\n",
       "    .dataframe tbody tr th {\n",
       "        vertical-align: top;\n",
       "    }\n",
       "\n",
       "    .dataframe thead th {\n",
       "        text-align: right;\n",
       "    }\n",
       "</style>\n",
       "<table border=\"1\" class=\"dataframe\">\n",
       "  <thead>\n",
       "    <tr style=\"text-align: right;\">\n",
       "      <th></th>\n",
       "      <th>Order ID</th>\n",
       "      <th>Product ID</th>\n",
       "      <th>SKU ID</th>\n",
       "      <th>Category</th>\n",
       "      <th>Quantity</th>\n",
       "      <th>Price per Unit</th>\n",
       "      <th>Customer ID</th>\n",
       "      <th>Warehouse ID</th>\n",
       "      <th>Customer Age</th>\n",
       "      <th>Customer Gender</th>\n",
       "      <th>Date</th>\n",
       "      <th>order_value</th>\n",
       "    </tr>\n",
       "  </thead>\n",
       "  <tbody>\n",
       "    <tr>\n",
       "      <th>0</th>\n",
       "      <td>2664</td>\n",
       "      <td>Product_099</td>\n",
       "      <td>SKU_053</td>\n",
       "      <td>Beauty &amp; Personal Care</td>\n",
       "      <td>2</td>\n",
       "      <td>75.67</td>\n",
       "      <td>CUST094</td>\n",
       "      <td>WH005</td>\n",
       "      <td>56</td>\n",
       "      <td>Female</td>\n",
       "      <td>2023-02-05</td>\n",
       "      <td>151.34</td>\n",
       "    </tr>\n",
       "    <tr>\n",
       "      <th>1</th>\n",
       "      <td>2664</td>\n",
       "      <td>Product_138</td>\n",
       "      <td>SKU_087</td>\n",
       "      <td>Toys &amp; Games</td>\n",
       "      <td>4</td>\n",
       "      <td>636.36</td>\n",
       "      <td>CUST094</td>\n",
       "      <td>WH005</td>\n",
       "      <td>56</td>\n",
       "      <td>Female</td>\n",
       "      <td>2023-02-05</td>\n",
       "      <td>2545.44</td>\n",
       "    </tr>\n",
       "    <tr>\n",
       "      <th>2</th>\n",
       "      <td>2664</td>\n",
       "      <td>Product_190</td>\n",
       "      <td>SKU_831</td>\n",
       "      <td>Groceries &amp; Gourmet Food</td>\n",
       "      <td>4</td>\n",
       "      <td>82.44</td>\n",
       "      <td>CUST094</td>\n",
       "      <td>WH005</td>\n",
       "      <td>56</td>\n",
       "      <td>Female</td>\n",
       "      <td>2023-02-05</td>\n",
       "      <td>329.76</td>\n",
       "    </tr>\n",
       "    <tr>\n",
       "      <th>3</th>\n",
       "      <td>5028</td>\n",
       "      <td>Product_156</td>\n",
       "      <td>SKU_524</td>\n",
       "      <td>Beauty &amp; Personal Care</td>\n",
       "      <td>3</td>\n",
       "      <td>57.16</td>\n",
       "      <td>CUST345</td>\n",
       "      <td>WH001</td>\n",
       "      <td>52</td>\n",
       "      <td>Female</td>\n",
       "      <td>2023-04-11</td>\n",
       "      <td>171.48</td>\n",
       "    </tr>\n",
       "    <tr>\n",
       "      <th>4</th>\n",
       "      <td>9143</td>\n",
       "      <td>Product_126</td>\n",
       "      <td>SKU_651</td>\n",
       "      <td>Beauty &amp; Personal Care</td>\n",
       "      <td>2</td>\n",
       "      <td>35.05</td>\n",
       "      <td>CUST585</td>\n",
       "      <td>WH004</td>\n",
       "      <td>52</td>\n",
       "      <td>Male</td>\n",
       "      <td>2023-04-12</td>\n",
       "      <td>70.10</td>\n",
       "    </tr>\n",
       "  </tbody>\n",
       "</table>\n",
       "</div>"
      ],
      "text/plain": [
       "   Order ID   Product ID   SKU ID                  Category  Quantity  \\\n",
       "0      2664  Product_099  SKU_053    Beauty & Personal Care         2   \n",
       "1      2664  Product_138  SKU_087              Toys & Games         4   \n",
       "2      2664  Product_190  SKU_831  Groceries & Gourmet Food         4   \n",
       "3      5028  Product_156  SKU_524    Beauty & Personal Care         3   \n",
       "4      9143  Product_126  SKU_651    Beauty & Personal Care         2   \n",
       "\n",
       "   Price per Unit Customer ID Warehouse ID  Customer Age Customer Gender  \\\n",
       "0           75.67     CUST094        WH005            56          Female   \n",
       "1          636.36     CUST094        WH005            56          Female   \n",
       "2           82.44     CUST094        WH005            56          Female   \n",
       "3           57.16     CUST345        WH001            52          Female   \n",
       "4           35.05     CUST585        WH004            52            Male   \n",
       "\n",
       "         Date  order_value  \n",
       "0  2023-02-05       151.34  \n",
       "1  2023-02-05      2545.44  \n",
       "2  2023-02-05       329.76  \n",
       "3  2023-04-11       171.48  \n",
       "4  2023-04-12        70.10  "
      ]
     },
     "execution_count": 12,
     "metadata": {},
     "output_type": "execute_result"
    }
   ],
   "source": [
    "Data.head()"
   ]
  },
  {
   "cell_type": "code",
   "execution_count": 13,
   "id": "e214287f-4172-44e6-bff5-b4bd02d40405",
   "metadata": {},
   "outputs": [
    {
     "name": "stdout",
     "output_type": "stream",
     "text": [
      "    Customer ID  Average Order Value\n",
      "0       CUST001          1348.963721\n",
      "1       CUST002          1353.771034\n",
      "2       CUST003          1187.813929\n",
      "3       CUST004          1382.176667\n",
      "4       CUST005          1526.746667\n",
      "..          ...                  ...\n",
      "995     CUST995          1498.250769\n",
      "996     CUST996          1559.702000\n",
      "997     CUST997          1521.431957\n",
      "998     CUST998          1255.387241\n",
      "999     CUST999          1442.328182\n",
      "\n",
      "[1000 rows x 2 columns]\n"
     ]
    }
   ],
   "source": [
    "# Group by Customer ID and calculate average order_value\n",
    "avg_order_value_per_customer = Data.groupby('Customer ID', as_index=False)['order_value'].mean()\n",
    "\n",
    "# Rename the column\n",
    "avg_order_value_per_customer.rename(columns={'order_value': 'Average Order Value'}, inplace=True)\n",
    "\n",
    "print(avg_order_value_per_customer)"
   ]
  },
  {
   "cell_type": "code",
   "execution_count": 14,
   "id": "fd1f58a5-93f7-41ee-b732-c34688bce59e",
   "metadata": {},
   "outputs": [
    {
     "name": "stdout",
     "output_type": "stream",
     "text": [
      "  Customer ID  Average Order Value  Customer Age Customer Gender\n",
      "0     CUST001          1348.963721            24          Female\n",
      "1     CUST002          1353.771034            35          Female\n",
      "2     CUST003          1187.813929            26            Male\n",
      "3     CUST004          1382.176667            25            Male\n",
      "4     CUST005          1526.746667            29          Female\n"
     ]
    }
   ],
   "source": [
    "#  Group by Customer ID and calculate average order_value\n",
    "avg_order_value_per_customer.rename(columns={'order_value': 'Average Order Value'}, inplace=True)\n",
    "\n",
    "#  Get unique age and gender per customer (assuming they are constant per customer)\n",
    "customer_info = Data[['Customer ID', 'Customer Age', 'Customer Gender']].drop_duplicates(subset='Customer ID')\n",
    "\n",
    "#  Merge average order value with customer info\n",
    "merged_df = pd.merge(avg_order_value_per_customer, customer_info, on='Customer ID', how='left')\n",
    "\n",
    "#  Display result\n",
    "print(merged_df.head())"
   ]
  },
  {
   "cell_type": "code",
   "execution_count": 15,
   "id": "0c0856b6-52e4-46bf-ac63-9e00716a81b6",
   "metadata": {
    "scrolled": true
   },
   "outputs": [
    {
     "name": "stdout",
     "output_type": "stream",
     "text": [
      "     Customer Age Customer Gender  Average Order Value\n",
      "0              24          Female          1348.963721\n",
      "1              35          Female          1353.771034\n",
      "2              26            Male          1187.813929\n",
      "3              25            Male          1382.176667\n",
      "4              29          Female          1526.746667\n",
      "..            ...             ...                  ...\n",
      "342            58          Female          1291.512667\n",
      "348            43            Male          1424.547000\n",
      "350            24            Male           730.531333\n",
      "504            65          Female          1369.595833\n",
      "555            44            Male          1346.532500\n",
      "\n",
      "[96 rows x 3 columns]\n"
     ]
    }
   ],
   "source": [
    "new_data=merged_df[['Customer Age', 'Customer Gender','Average Order Value']].drop_duplicates(subset=['Customer Age','Customer Gender'])\n",
    "print(new_data)"
   ]
  },
  {
   "cell_type": "markdown",
   "id": "869ea224-9de1-4834-bd0c-49d3b8f17f25",
   "metadata": {},
   "source": [
    "## REGRESSION\n",
    "\n"
   ]
  },
  {
   "cell_type": "code",
   "execution_count": 16,
   "id": "e7bcb722-86c9-43b4-9940-8913a86bb6dd",
   "metadata": {},
   "outputs": [],
   "source": [
    "from sklearn.linear_model import LinearRegression, Ridge, Lasso\n",
    "from sklearn.tree import DecisionTreeRegressor\n",
    "from sklearn.ensemble import RandomForestRegressor\n",
    "from sklearn.metrics import mean_squared_error\n",
    "from sklearn.model_selection import train_test_split\n",
    "import pandas as pd\n"
   ]
  },
  {
   "cell_type": "code",
   "execution_count": 17,
   "id": "64b8b5c2-4211-490c-8657-2709b768ce99",
   "metadata": {},
   "outputs": [
    {
     "name": "stdout",
     "output_type": "stream",
     "text": [
      "Index(['Customer Age', 'Average Order Value', 'Customer Gender_Male'], dtype='object')\n"
     ]
    }
   ],
   "source": [
    "# One-hot encode the 'gender' column\n",
    "data_encoded = pd.get_dummies(new_data, columns=['Customer Gender'], drop_first=True)\n",
    "print(data_encoded.columns)"
   ]
  },
  {
   "cell_type": "code",
   "execution_count": 18,
   "id": "c35a3938-a470-4f01-b9a1-1f388ec1dc2b",
   "metadata": {},
   "outputs": [],
   "source": [
    "X = data_encoded[['Customer Age', 'Customer Gender_Male']]  \n",
    "y = data_encoded['Average Order Value']"
   ]
  },
  {
   "cell_type": "code",
   "execution_count": 19,
   "id": "c33b048e-47a4-423b-b4e6-61f3fc1b0f97",
   "metadata": {},
   "outputs": [],
   "source": [
    "X_train, X_test, y_train, y_test = train_test_split(X, y, test_size=0.2, random_state=42)"
   ]
  },
  {
   "cell_type": "code",
   "execution_count": 20,
   "id": "37d60caa-35a8-4f08-b785-1ab947285016",
   "metadata": {},
   "outputs": [],
   "source": [
    "models = {\n",
    "    'Linear Regression': LinearRegression(),\n",
    "    'Ridge Regression': Ridge(alpha=1.0),\n",
    "    'Lasso Regression': Lasso(alpha=0.1),\n",
    "    'Decision Tree': DecisionTreeRegressor(random_state=42),\n",
    "    'Random Forest': RandomForestRegressor(random_state=42)\n",
    "}"
   ]
  },
  {
   "cell_type": "code",
   "execution_count": 21,
   "id": "57913ccf-aa0a-4dad-9303-b94679da19cb",
   "metadata": {},
   "outputs": [],
   "source": [
    "results = {}\n",
    "for name, model in models.items():\n",
    "    model.fit(X_train, y_train)\n",
    "    y_pred = model.predict(X_test)\n",
    "    mse = mean_squared_error(y_test, y_pred)\n",
    "    results[name] = mse\n",
    "\n",
    "\n",
    "results_sorted = dict(sorted(results.items(), key=lambda item: item[1]))"
   ]
  },
  {
   "cell_type": "code",
   "execution_count": 22,
   "id": "7f43b402-f393-44bf-b4bc-c65585dc4e6c",
   "metadata": {},
   "outputs": [
    {
     "name": "stdout",
     "output_type": "stream",
     "text": [
      "Model Performance (lower MSE is better):\n",
      "Ridge Regression: 91880.18\n",
      "Lasso Regression: 91942.85\n",
      "Linear Regression: 91953.21\n",
      "Random Forest: 114159.10\n",
      "Decision Tree: 151423.44\n",
      "\n",
      "Best Performing Model: Ridge Regression\n"
     ]
    }
   ],
   "source": [
    "print(\"Model Performance (lower MSE is better):\")\n",
    "for model, mse in results_sorted.items():\n",
    "    print(f\"{model}: {mse:.2f}\")\n",
    "\n",
    "best_model = min(results_sorted, key=results_sorted.get)\n",
    "print(f\"\\nBest Performing Model: {best_model}\")\n"
   ]
  },
  {
   "cell_type": "markdown",
   "id": "09297663-f6df-4ae8-81bf-119520be2dc9",
   "metadata": {},
   "source": [
    "# Pickling the best model"
   ]
  },
  {
   "cell_type": "code",
   "execution_count": 23,
   "id": "1644b566-7d52-4c1a-bf18-fe2e681dff3e",
   "metadata": {},
   "outputs": [],
   "source": [
    "import pickle\n",
    "best_model_object = models['Ridge Regression']\n",
    "\n",
    "with open(\"Ridge Regression_model.pkl\", \"wb\") as f:\n",
    "    pickle.dump(best_model_object, f)"
   ]
  },
  {
   "cell_type": "code",
   "execution_count": null,
   "id": "72350c54-9197-471a-9b16-3691ebe56604",
   "metadata": {},
   "outputs": [],
   "source": []
  },
  {
   "cell_type": "code",
   "execution_count": null,
   "id": "214367fc-e00a-4d16-9d7b-f349f35ba4cb",
   "metadata": {},
   "outputs": [],
   "source": []
  },
  {
   "cell_type": "code",
   "execution_count": null,
   "id": "1a58a123-a3bc-45a7-bdc1-85895cdee72b",
   "metadata": {},
   "outputs": [],
   "source": []
  }
 ],
 "metadata": {
  "kernelspec": {
   "display_name": "Python [conda env:base] *",
   "language": "python",
   "name": "conda-base-py"
  },
  "language_info": {
   "codemirror_mode": {
    "name": "ipython",
    "version": 3
   },
   "file_extension": ".py",
   "mimetype": "text/x-python",
   "name": "python",
   "nbconvert_exporter": "python",
   "pygments_lexer": "ipython3",
   "version": "3.12.7"
  }
 },
 "nbformat": 4,
 "nbformat_minor": 5
}
